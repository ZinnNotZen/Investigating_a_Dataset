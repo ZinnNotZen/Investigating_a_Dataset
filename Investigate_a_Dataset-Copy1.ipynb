{
 "cells": [
  {
   "cell_type": "markdown",
   "metadata": {},
   "source": [
    "> **Tip**: Welcome to the Investigate a Dataset project! You will find tips in quoted sections like this to help organize your approach to your investigation. Once you complete this project, remove these **Tip** sections from your report before submission. First things first, you might want to double-click this Markdown cell and change the title so that it reflects your dataset and investigation.\n",
    "\n",
    "# Project: Investigate a Dataset - TMBD-Movies\n",
    "\n",
    "## Table of Contents\n",
    "<ul>\n",
    "<li><a href=\"#intro\">Introduction</a></li>\n",
    "<li><a href=\"#wrangling\">Data Wrangling</a></li>\n",
    "<li><a href=\"#eda\">Exploratory Data Analysis</a></li>\n",
    "<li><a href=\"#conclusions\">Conclusions</a></li>\n",
    "</ul>"
   ]
  },
  {
   "cell_type": "markdown",
   "metadata": {},
   "source": [
    "<a id='intro'></a>\n",
    "## Introduction\n",
    "\n",
    "### Dataset Description \n",
    "\n",
    "This project we will analyzing data that has been collected from about 10,000 movies using the TMDb (The Movie Database). \n",
    "This data includes the id, IMBD id, the popularity of the movie, its budget, revenue, original title, cast, the homepage of the movie, its director, its tagline, keywords used for it (ex: For Jurassic World some keywords are monster, DNA, and island), the movie overview, its runtime, genre, production companies, the release date, vote count, vote average, release year, adjusted budget, and adjusted revenue. Each of these categories are very important for learning about how the movie did and it can give some insight on why it did so well or so poorly. For example, the columns giving the id, IMBD id, and original title are identifiers so people can find the movie they are looking for or so they can know what movie information they are looking at. Columns like cast, homepage, director, tagline, keywords, movie overview, runtime, genre, production companies and production companies are ways to learn about the movie its self, who helped make it and what is that movie about. While the columns budget, release date, release year, and adjusted budget are more details about the movie that the main population of people may not want or need to know about. Then the columns popularity, revenue, vote count, vote average, and adjusted revenue can help show you how successful the movie w\n",
    "\n",
    "\n",
    "### Question(s) for Analysis\n",
    "1. Is the film industry making a profit over the years?\n",
    "2. Is the rating of movies getting better or worse? "
   ]
  },
  {
   "cell_type": "code",
   "execution_count": 5,
   "metadata": {},
   "outputs": [],
   "source": [
    "import pandas as pd\n",
    "import numpy as np\n",
    "import seaborn as sns\n",
    "import csv\n",
    "%matplotlib inline\n",
    "import matplotlib.pyplot as plt\n",
    "from datetime import datetime"
   ]
  },
  {
   "cell_type": "code",
   "execution_count": 6,
   "metadata": {},
   "outputs": [
    {
     "name": "stdout",
     "output_type": "stream",
     "text": [
      "Requirement already up-to-date: pandas==0.25.0 in /opt/conda/lib/python3.6/site-packages (0.25.0)\r\n",
      "Requirement already satisfied, skipping upgrade: numpy>=1.13.3 in /opt/conda/lib/python3.6/site-packages (from pandas==0.25.0) (1.19.5)\r\n",
      "Requirement already satisfied, skipping upgrade: pytz>=2017.2 in /opt/conda/lib/python3.6/site-packages (from pandas==0.25.0) (2017.3)\r\n",
      "Requirement already satisfied, skipping upgrade: python-dateutil>=2.6.1 in /opt/conda/lib/python3.6/site-packages (from pandas==0.25.0) (2.6.1)\r\n",
      "Requirement already satisfied, skipping upgrade: six>=1.5 in /opt/conda/lib/python3.6/site-packages (from python-dateutil>=2.6.1->pandas==0.25.0) (1.11.0)\r\n"
     ]
    }
   ],
   "source": [
    "# Upgrade pandas to use dataframe.explode() function. \n",
    "!pip install --upgrade pandas==0.25.0"
   ]
  },
  {
   "cell_type": "markdown",
   "metadata": {},
   "source": [
    "<a id='wrangling'></a>\n",
    "## Data Wrangling\n",
    "\n",
    "> **Tip**: In this section of the report, you will load in the data, check for cleanliness, and then trim and clean your dataset for analysis. Make sure that you **document your data cleaning steps in mark-down cells precisely and justify your cleaning decisions.**\n",
    "\n",
    "\n",
    "### General Properties\n",
    "> **Tip**: You should _not_ perform too many operations in each cell. Create cells freely to explore your data. One option that you can take with this project is to do a lot of explorations in an initial notebook. These don't have to be organized, but make sure you use enough comments to understand the purpose of each code cell. Then, after you're done with your analysis, create a duplicate notebook where you will trim the excess and organize your steps so that you have a flowing, cohesive report."
   ]
  },
  {
   "cell_type": "code",
   "execution_count": 7,
   "metadata": {},
   "outputs": [
    {
     "data": {
      "text/plain": [
       "<bound method NDFrame.head of            id    imdb_id  popularity     budget     revenue  \\\n",
       "0      135397  tt0369610   32.985763  150000000  1513528810   \n",
       "1       76341  tt1392190   28.419936  150000000   378436354   \n",
       "2      262500  tt2908446   13.112507  110000000   295238201   \n",
       "3      140607  tt2488496   11.173104  200000000  2068178225   \n",
       "4      168259  tt2820852    9.335014  190000000  1506249360   \n",
       "...       ...        ...         ...        ...         ...   \n",
       "10861      21  tt0060371    0.080598          0           0   \n",
       "10862   20379  tt0060472    0.065543          0           0   \n",
       "10863   39768  tt0060161    0.065141          0           0   \n",
       "10864   21449  tt0061177    0.064317          0           0   \n",
       "10865   22293  tt0060666    0.035919      19000           0   \n",
       "\n",
       "                     original_title  \\\n",
       "0                    Jurassic World   \n",
       "1                Mad Max: Fury Road   \n",
       "2                         Insurgent   \n",
       "3      Star Wars: The Force Awakens   \n",
       "4                         Furious 7   \n",
       "...                             ...   \n",
       "10861            The Endless Summer   \n",
       "10862                    Grand Prix   \n",
       "10863           Beregis Avtomobilya   \n",
       "10864        What's Up, Tiger Lily?   \n",
       "10865      Manos: The Hands of Fate   \n",
       "\n",
       "                                                    cast  \\\n",
       "0      Chris Pratt|Bryce Dallas Howard|Irrfan Khan|Vi...   \n",
       "1      Tom Hardy|Charlize Theron|Hugh Keays-Byrne|Nic...   \n",
       "2      Shailene Woodley|Theo James|Kate Winslet|Ansel...   \n",
       "3      Harrison Ford|Mark Hamill|Carrie Fisher|Adam D...   \n",
       "4      Vin Diesel|Paul Walker|Jason Statham|Michelle ...   \n",
       "...                                                  ...   \n",
       "10861  Michael Hynson|Robert August|Lord 'Tally Ho' B...   \n",
       "10862  James Garner|Eva Marie Saint|Yves Montand|Tosh...   \n",
       "10863  Innokentiy Smoktunovskiy|Oleg Efremov|Georgi Z...   \n",
       "10864  Tatsuya Mihashi|Akiko Wakabayashi|Mie Hama|Joh...   \n",
       "10865  Harold P. Warren|Tom Neyman|John Reynolds|Dian...   \n",
       "\n",
       "                                                homepage            director  \\\n",
       "0                          http://www.jurassicworld.com/     Colin Trevorrow   \n",
       "1                            http://www.madmaxmovie.com/       George Miller   \n",
       "2         http://www.thedivergentseries.movie/#insurgent    Robert Schwentke   \n",
       "3      http://www.starwars.com/films/star-wars-episod...         J.J. Abrams   \n",
       "4                               http://www.furious7.com/           James Wan   \n",
       "...                                                  ...                 ...   \n",
       "10861                                                NaN         Bruce Brown   \n",
       "10862                                                NaN  John Frankenheimer   \n",
       "10863                                                NaN      Eldar Ryazanov   \n",
       "10864                                                NaN         Woody Allen   \n",
       "10865                                                NaN    Harold P. Warren   \n",
       "\n",
       "                                                 tagline  ...  \\\n",
       "0                                      The park is open.  ...   \n",
       "1                                     What a Lovely Day.  ...   \n",
       "2                             One Choice Can Destroy You  ...   \n",
       "3                          Every generation has a story.  ...   \n",
       "4                                    Vengeance Hits Home  ...   \n",
       "...                                                  ...  ...   \n",
       "10861                                                NaN  ...   \n",
       "10862  Cinerama sweeps YOU into a drama of speed and ...  ...   \n",
       "10863                                                NaN  ...   \n",
       "10864                          WOODY ALLEN STRIKES BACK!  ...   \n",
       "10865       It's Shocking! It's Beyond Your Imagination!  ...   \n",
       "\n",
       "                                                overview runtime  \\\n",
       "0      Twenty-two years after the events of Jurassic ...     124   \n",
       "1      An apocalyptic story set in the furthest reach...     120   \n",
       "2      Beatrice Prior must confront her inner demons ...     119   \n",
       "3      Thirty years after defeating the Galactic Empi...     136   \n",
       "4      Deckard Shaw seeks revenge against Dominic Tor...     137   \n",
       "...                                                  ...     ...   \n",
       "10861  The Endless Summer, by Bruce Brown, is one of ...      95   \n",
       "10862  Grand Prix driver Pete Aron is fired by his te...     176   \n",
       "10863  An insurance agent who moonlights as a carthie...      94   \n",
       "10864  In comic Woody Allen's film debut, he took the...      80   \n",
       "10865  A family gets lost on the road and stumbles up...      74   \n",
       "\n",
       "                                          genres  \\\n",
       "0      Action|Adventure|Science Fiction|Thriller   \n",
       "1      Action|Adventure|Science Fiction|Thriller   \n",
       "2             Adventure|Science Fiction|Thriller   \n",
       "3       Action|Adventure|Science Fiction|Fantasy   \n",
       "4                          Action|Crime|Thriller   \n",
       "...                                          ...   \n",
       "10861                                Documentary   \n",
       "10862                     Action|Adventure|Drama   \n",
       "10863                             Mystery|Comedy   \n",
       "10864                              Action|Comedy   \n",
       "10865                                     Horror   \n",
       "\n",
       "                                    production_companies release_date  \\\n",
       "0      Universal Studios|Amblin Entertainment|Legenda...       6/9/15   \n",
       "1      Village Roadshow Pictures|Kennedy Miller Produ...      5/13/15   \n",
       "2      Summit Entertainment|Mandeville Films|Red Wago...      3/18/15   \n",
       "3              Lucasfilm|Truenorth Productions|Bad Robot     12/15/15   \n",
       "4      Universal Pictures|Original Film|Media Rights ...       4/1/15   \n",
       "...                                                  ...          ...   \n",
       "10861                                  Bruce Brown Films      6/15/66   \n",
       "10862  Cherokee Productions|Joel Productions|Douglas ...     12/21/66   \n",
       "10863                                            Mosfilm       1/1/66   \n",
       "10864                            Benedict Pictures Corp.      11/2/66   \n",
       "10865                                          Norm-Iris     11/15/66   \n",
       "\n",
       "      vote_count  vote_average  release_year    budget_adj   revenue_adj  \n",
       "0           5562           6.5          2015  1.379999e+08  1.392446e+09  \n",
       "1           6185           7.1          2015  1.379999e+08  3.481613e+08  \n",
       "2           2480           6.3          2015  1.012000e+08  2.716190e+08  \n",
       "3           5292           7.5          2015  1.839999e+08  1.902723e+09  \n",
       "4           2947           7.3          2015  1.747999e+08  1.385749e+09  \n",
       "...          ...           ...           ...           ...           ...  \n",
       "10861         11           7.4          1966  0.000000e+00  0.000000e+00  \n",
       "10862         20           5.7          1966  0.000000e+00  0.000000e+00  \n",
       "10863         11           6.5          1966  0.000000e+00  0.000000e+00  \n",
       "10864         22           5.4          1966  0.000000e+00  0.000000e+00  \n",
       "10865         15           1.5          1966  1.276423e+05  0.000000e+00  \n",
       "\n",
       "[10866 rows x 21 columns]>"
      ]
     },
     "execution_count": 7,
     "metadata": {},
     "output_type": "execute_result"
    }
   ],
   "source": [
    "db = pd.read_csv('tmdb-movies.csv')\n",
    "db.head"
   ]
  },
  {
   "cell_type": "code",
   "execution_count": 8,
   "metadata": {},
   "outputs": [
    {
     "name": "stdout",
     "output_type": "stream",
     "text": [
      "<class 'pandas.core.frame.DataFrame'>\n",
      "RangeIndex: 10866 entries, 0 to 10865\n",
      "Data columns (total 21 columns):\n",
      "id                      10866 non-null int64\n",
      "imdb_id                 10856 non-null object\n",
      "popularity              10866 non-null float64\n",
      "budget                  10866 non-null int64\n",
      "revenue                 10866 non-null int64\n",
      "original_title          10866 non-null object\n",
      "cast                    10790 non-null object\n",
      "homepage                2936 non-null object\n",
      "director                10822 non-null object\n",
      "tagline                 8042 non-null object\n",
      "keywords                9373 non-null object\n",
      "overview                10862 non-null object\n",
      "runtime                 10866 non-null int64\n",
      "genres                  10843 non-null object\n",
      "production_companies    9836 non-null object\n",
      "release_date            10866 non-null object\n",
      "vote_count              10866 non-null int64\n",
      "vote_average            10866 non-null float64\n",
      "release_year            10866 non-null int64\n",
      "budget_adj              10866 non-null float64\n",
      "revenue_adj             10866 non-null float64\n",
      "dtypes: float64(4), int64(6), object(11)\n",
      "memory usage: 1.7+ MB\n"
     ]
    }
   ],
   "source": [
    "db.info()"
   ]
  },
  {
   "cell_type": "markdown",
   "metadata": {},
   "source": [
    "\n",
    "### Data Cleaning\n",
    "Crop columns, drop duplicity, if there is any\n",
    "Change the lease date to date time\n",
    "Drop null or 0 values from the data\n",
    " "
   ]
  },
  {
   "cell_type": "code",
   "execution_count": 9,
   "metadata": {},
   "outputs": [],
   "source": [
    "# Deleting (id,imdb_id,cast,homepage,tagline,keywords,overview) columns\n",
    "to_drop = [\"id\",\"imdb_id\",\"cast\",\"homepage\",\"tagline\",\"keywords\",\"overview\"]"
   ]
  },
  {
   "cell_type": "code",
   "execution_count": 10,
   "metadata": {},
   "outputs": [],
   "source": [
    "db.drop(to_drop, inplace=True, axis=1)"
   ]
  },
  {
   "cell_type": "code",
   "execution_count": 11,
   "metadata": {},
   "outputs": [
    {
     "data": {
      "text/plain": [
       "1"
      ]
     },
     "execution_count": 11,
     "metadata": {},
     "output_type": "execute_result"
    }
   ],
   "source": [
    "# Check for duplicates in the data\n",
    "sum(db.duplicated())"
   ]
  },
  {
   "cell_type": "code",
   "execution_count": 12,
   "metadata": {},
   "outputs": [],
   "source": [
    "# Drop duplicates\n",
    "db.drop_duplicates(inplace=True)"
   ]
  },
  {
   "cell_type": "code",
   "execution_count": 13,
   "metadata": {},
   "outputs": [
    {
     "data": {
      "text/plain": [
       "0"
      ]
     },
     "execution_count": 13,
     "metadata": {},
     "output_type": "execute_result"
    }
   ],
   "source": [
    "# Check again for duplicates \n",
    "sum(db.duplicated())"
   ]
  },
  {
   "cell_type": "code",
   "execution_count": 14,
   "metadata": {},
   "outputs": [
    {
     "data": {
      "text/plain": [
       "<bound method DataFrame.isnull of        popularity     budget     revenue                original_title  \\\n",
       "0       32.985763  150000000  1513528810                Jurassic World   \n",
       "1       28.419936  150000000   378436354            Mad Max: Fury Road   \n",
       "2       13.112507  110000000   295238201                     Insurgent   \n",
       "3       11.173104  200000000  2068178225  Star Wars: The Force Awakens   \n",
       "4        9.335014  190000000  1506249360                     Furious 7   \n",
       "...           ...        ...         ...                           ...   \n",
       "10861    0.080598          0           0            The Endless Summer   \n",
       "10862    0.065543          0           0                    Grand Prix   \n",
       "10863    0.065141          0           0           Beregis Avtomobilya   \n",
       "10864    0.064317          0           0        What's Up, Tiger Lily?   \n",
       "10865    0.035919      19000           0      Manos: The Hands of Fate   \n",
       "\n",
       "                 director  runtime                                     genres  \\\n",
       "0         Colin Trevorrow      124  Action|Adventure|Science Fiction|Thriller   \n",
       "1           George Miller      120  Action|Adventure|Science Fiction|Thriller   \n",
       "2        Robert Schwentke      119         Adventure|Science Fiction|Thriller   \n",
       "3             J.J. Abrams      136   Action|Adventure|Science Fiction|Fantasy   \n",
       "4               James Wan      137                      Action|Crime|Thriller   \n",
       "...                   ...      ...                                        ...   \n",
       "10861         Bruce Brown       95                                Documentary   \n",
       "10862  John Frankenheimer      176                     Action|Adventure|Drama   \n",
       "10863      Eldar Ryazanov       94                             Mystery|Comedy   \n",
       "10864         Woody Allen       80                              Action|Comedy   \n",
       "10865    Harold P. Warren       74                                     Horror   \n",
       "\n",
       "                                    production_companies release_date  \\\n",
       "0      Universal Studios|Amblin Entertainment|Legenda...       6/9/15   \n",
       "1      Village Roadshow Pictures|Kennedy Miller Produ...      5/13/15   \n",
       "2      Summit Entertainment|Mandeville Films|Red Wago...      3/18/15   \n",
       "3              Lucasfilm|Truenorth Productions|Bad Robot     12/15/15   \n",
       "4      Universal Pictures|Original Film|Media Rights ...       4/1/15   \n",
       "...                                                  ...          ...   \n",
       "10861                                  Bruce Brown Films      6/15/66   \n",
       "10862  Cherokee Productions|Joel Productions|Douglas ...     12/21/66   \n",
       "10863                                            Mosfilm       1/1/66   \n",
       "10864                            Benedict Pictures Corp.      11/2/66   \n",
       "10865                                          Norm-Iris     11/15/66   \n",
       "\n",
       "       vote_count  vote_average  release_year    budget_adj   revenue_adj  \n",
       "0            5562           6.5          2015  1.379999e+08  1.392446e+09  \n",
       "1            6185           7.1          2015  1.379999e+08  3.481613e+08  \n",
       "2            2480           6.3          2015  1.012000e+08  2.716190e+08  \n",
       "3            5292           7.5          2015  1.839999e+08  1.902723e+09  \n",
       "4            2947           7.3          2015  1.747999e+08  1.385749e+09  \n",
       "...           ...           ...           ...           ...           ...  \n",
       "10861          11           7.4          1966  0.000000e+00  0.000000e+00  \n",
       "10862          20           5.7          1966  0.000000e+00  0.000000e+00  \n",
       "10863          11           6.5          1966  0.000000e+00  0.000000e+00  \n",
       "10864          22           5.4          1966  0.000000e+00  0.000000e+00  \n",
       "10865          15           1.5          1966  1.276423e+05  0.000000e+00  \n",
       "\n",
       "[10865 rows x 14 columns]>"
      ]
     },
     "execution_count": 14,
     "metadata": {},
     "output_type": "execute_result"
    }
   ],
   "source": [
    "db.isnull"
   ]
  },
  {
   "cell_type": "code",
   "execution_count": 15,
   "metadata": {},
   "outputs": [],
   "source": [
    "# Convert 'release_date' type from str to datetime \n",
    "db[\"release_date\"] = pd.to_datetime(db[\"release_date\"])"
   ]
  },
  {
   "cell_type": "code",
   "execution_count": 16,
   "metadata": {},
   "outputs": [],
   "source": [
    "# Replace all values of 0 with NAN\n",
    "db = db.replace(0, np.nan)"
   ]
  },
  {
   "cell_type": "code",
   "execution_count": 17,
   "metadata": {},
   "outputs": [],
   "source": [
    "# Droping the null\n",
    "df = db.dropna()"
   ]
  },
  {
   "cell_type": "code",
   "execution_count": 19,
   "metadata": {},
   "outputs": [
    {
     "name": "stdout",
     "output_type": "stream",
     "text": [
      "<class 'pandas.core.frame.DataFrame'>\n",
      "Int64Index: 3807 entries, 0 to 10848\n",
      "Data columns (total 14 columns):\n",
      "popularity              3807 non-null float64\n",
      "budget                  3807 non-null float64\n",
      "revenue                 3807 non-null float64\n",
      "original_title          3807 non-null object\n",
      "director                3807 non-null object\n",
      "runtime                 3807 non-null float64\n",
      "genres                  3807 non-null object\n",
      "production_companies    3807 non-null object\n",
      "release_date            3807 non-null datetime64[ns]\n",
      "vote_count              3807 non-null int64\n",
      "vote_average            3807 non-null float64\n",
      "release_year            3807 non-null int64\n",
      "budget_adj              3807 non-null float64\n",
      "revenue_adj             3807 non-null float64\n",
      "dtypes: datetime64[ns](1), float64(7), int64(2), object(4)\n",
      "memory usage: 446.1+ KB\n"
     ]
    }
   ],
   "source": [
    "# Confirm correction \n",
    "df.info()"
   ]
  },
  {
   "cell_type": "markdown",
   "metadata": {},
   "source": [
    "<a id='eda'></a>\n",
    "## Exploratory Data Analysis\n",
    "\n",
    "> **Tip**: Now that you've trimmed and cleaned your data, you're ready to move on to exploration. **Compute statistics** and **create visualizations** with the goal of addressing the research questions that you posed in the Introduction section. You should compute the relevant statistics throughout the analysis when an inference is made about the data. Note that at least two or more kinds of plots should be created as part of the exploration, and you must  compare and show trends in the varied visualizations. \n",
    "\n",
    "\n",
    "\n",
    "> **Tip**: - Investigate the stated question(s) from multiple angles. It is recommended that you be systematic with your approach. Look at one variable at a time, and then follow it up by looking at relationships between variables. You should explore at least three variables in relation to the primary question. This can be an exploratory relationship between three variables of interest, or looking at how two independent variables relate to a single dependent variable of interest. Lastly, you  should perform both single-variable (1d) and multiple-variable (2d) explorations.\n",
    "\n",
    "\n",
    "### Research Question 1: Has the film industry making a profit over the years?\n",
    "We will work with two variables, The independent varible is the time in release_year column and the dependent varible is the number of movies.\n",
    "First we need to calculate the number of movies in each year by value_counts() release_years column, and sort the years by sort_index().\n",
    "Now we want visualize the result to make conclusion."
   ]
  },
  {
   "cell_type": "code",
   "execution_count": 20,
   "metadata": {},
   "outputs": [],
   "source": [
    "# count the number of movies in each year then sort the result\n",
    "count_movies_year = db[\"release_year\"].value_counts().sort_index()"
   ]
  },
  {
   "cell_type": "code",
   "execution_count": 21,
   "metadata": {},
   "outputs": [
    {
     "data": {
      "text/plain": [
       "Text(0,0.5,'Year')"
      ]
     },
     "execution_count": 21,
     "metadata": {},
     "output_type": "execute_result"
    },
    {
     "data": {
      "image/png": "[encoded data removed]",
      "text/plain": [
       "<matplotlib.figure.Figure at 0x7ff4309017f0>"
      ]
     },
     "metadata": {
      "needs_background": "light"
     },
     "output_type": "display_data"
    }
   ],
   "source": [
    "# plot relationship between release_year and number of movies\n",
    "count_movies_year.plot(kind='barh',title='Number Of Movies vs Year', figsize=(5,20))\n",
    "# x-axis name\n",
    "plt.xlabel('Number Of Movies')\n",
    "# y-axis name\n",
    "plt.ylabel('Year')"
   ]
  },
  {
   "cell_type": "markdown",
   "metadata": {},
   "source": [
    "### Research Question 2  2. Is the public rating of movies getting better or worse?\n",
    "Independent variable is release year\n",
    "Dependent variable is vote average\n",
    "Group by to ttable by year and calculate the mean of the average for each year\n",
    "First we define a function to calculate the mean of one column then groupby the result by another column, We will use this function in Q1 & Q2.\n"
   ]
  },
  {
   "cell_type": "code",
   "execution_count": 22,
   "metadata": {},
   "outputs": [],
   "source": [
    "# definding a function to calculate the mean for column2 and groupby by column1\n",
    "def groupby_avg(column1,column2):\n",
    "    avg_gb_data = db.groupby(column1)[column2].mean()\n",
    "    return avg_gb_data"
   ]
  },
  {
   "cell_type": "code",
   "execution_count": 23,
   "metadata": {},
   "outputs": [],
   "source": [
    "#Now we want visualize the result to make conclusion.\n"
   ]
  },
  {
   "cell_type": "code",
   "execution_count": 24,
   "metadata": {},
   "outputs": [],
   "source": [
    "# call the groupby_avg function and passing release_year and vote_average arguments\n",
    "avg_rating_year = groupby_avg(\"release_year\",\"vote_average\")"
   ]
  },
  {
   "cell_type": "code",
   "execution_count": 30,
   "metadata": {},
   "outputs": [
    {
     "ename": "ModuleNotFoundError",
     "evalue": "No module named 'pandas.plotting._timeseries'",
     "output_type": "error",
     "traceback": [
      "\u001b[0;31m---------------------------------------------------------------------------\u001b[0m",
      "\u001b[0;31mModuleNotFoundError\u001b[0m                       Traceback (most recent call last)",
      "\u001b[0;32m<ipython-input-30-c92937dc00f1>\u001b[0m in \u001b[0;36m<module>\u001b[0;34m()\u001b[0m\n\u001b[1;32m      1\u001b[0m \u001b[0;31m# plot relationship between release_year and vote_average\u001b[0m\u001b[0;34m\u001b[0m\u001b[0;34m\u001b[0m\u001b[0m\n\u001b[0;32m----> 2\u001b[0;31m \u001b[0mavg_rating_year\u001b[0m\u001b[0;34m.\u001b[0m\u001b[0mplot\u001b[0m\u001b[0;34m(\u001b[0m\u001b[0mkind\u001b[0m\u001b[0;34m=\u001b[0m\u001b[0;34m'line'\u001b[0m\u001b[0;34m,\u001b[0m\u001b[0mtitle\u001b[0m\u001b[0;34m=\u001b[0m\u001b[0;34m'Average Rating VS Years'\u001b[0m\u001b[0;34m,\u001b[0m\u001b[0mfigsize\u001b[0m \u001b[0;34m=\u001b[0m \u001b[0;34m(\u001b[0m\u001b[0;36m10\u001b[0m\u001b[0;34m,\u001b[0m\u001b[0;36m5\u001b[0m\u001b[0;34m)\u001b[0m\u001b[0;34m)\u001b[0m\u001b[0;34m\u001b[0m\u001b[0m\n\u001b[0m",
      "\u001b[0;32m/opt/conda/lib/python3.6/site-packages/pandas/plotting/_core.py\u001b[0m in \u001b[0;36m__call__\u001b[0;34m(self, kind, ax, figsize, use_index, title, grid, legend, style, logx, logy, loglog, xticks, yticks, xlim, ylim, rot, fontsize, colormap, table, yerr, xerr, label, secondary_y, **kwds)\u001b[0m\n",
      "\u001b[0;32m/opt/conda/lib/python3.6/site-packages/pandas/plotting/_core.py\u001b[0m in \u001b[0;36mplot_series\u001b[0;34m(data, kind, ax, figsize, use_index, title, grid, legend, style, logx, logy, loglog, xticks, yticks, xlim, ylim, rot, fontsize, colormap, table, yerr, xerr, label, secondary_y, **kwds)\u001b[0m\n",
      "\u001b[0;32m/opt/conda/lib/python3.6/site-packages/pandas/plotting/_core.py\u001b[0m in \u001b[0;36m_plot\u001b[0;34m(data, x, y, subplots, ax, kind, **kwds)\u001b[0m\n",
      "\u001b[0;32m/opt/conda/lib/python3.6/site-packages/pandas/plotting/_core.py\u001b[0m in \u001b[0;36mgenerate\u001b[0;34m(self)\u001b[0m\n\u001b[1;32m    258\u001b[0m           \u001b[0mLines\u001b[0m \u001b[0mof\u001b[0m \u001b[0mthe\u001b[0m \u001b[0mboxplot\u001b[0m\u001b[0;34m.\u001b[0m\u001b[0;34m\u001b[0m\u001b[0m\n\u001b[1;32m    259\u001b[0m         \u001b[0;34m*\u001b[0m \u001b[0;34m'both'\u001b[0m \u001b[0mreturns\u001b[0m \u001b[0ma\u001b[0m \u001b[0mnamedtuple\u001b[0m \u001b[0;32mwith\u001b[0m \u001b[0mthe\u001b[0m \u001b[0maxes\u001b[0m \u001b[0;32mand\u001b[0m \u001b[0mdict\u001b[0m\u001b[0;34m.\u001b[0m\u001b[0;34m\u001b[0m\u001b[0m\n\u001b[0;32m--> 260\u001b[0;31m         \u001b[0;34m*\u001b[0m \u001b[0mwhen\u001b[0m \u001b[0mgrouping\u001b[0m \u001b[0;32mwith\u001b[0m\u001b[0;31m \u001b[0m\u001b[0;31m`\u001b[0m\u001b[0;31m`\u001b[0m\u001b[0mby\u001b[0m\u001b[0;31m`\u001b[0m\u001b[0;31m`\u001b[0m\u001b[0;34m,\u001b[0m \u001b[0ma\u001b[0m \u001b[0mSeries\u001b[0m \u001b[0mmapping\u001b[0m \u001b[0mcolumns\u001b[0m \u001b[0mto\u001b[0m\u001b[0;34m\u001b[0m\u001b[0m\n\u001b[0m\u001b[1;32m    261\u001b[0m           \u001b[0;31m`\u001b[0m\u001b[0;31m`\u001b[0m\u001b[0mreturn_type\u001b[0m\u001b[0;31m`\u001b[0m\u001b[0;31m`\u001b[0m \u001b[0;32mis\u001b[0m \u001b[0mreturned\u001b[0m\u001b[0;34m.\u001b[0m\u001b[0;34m\u001b[0m\u001b[0m\n\u001b[1;32m    262\u001b[0m \u001b[0;34m\u001b[0m\u001b[0m\n",
      "\u001b[0;32m/opt/conda/lib/python3.6/site-packages/pandas/plotting/_core.py\u001b[0m in \u001b[0;36m_make_plot\u001b[0;34m(self)\u001b[0m\n\u001b[1;32m    953\u001b[0m \u001b[0;34m\u001b[0m\u001b[0m\n\u001b[1;32m    954\u001b[0m         \u001b[0mA\u001b[0m \u001b[0mhorizontal\u001b[0m \u001b[0mbar\u001b[0m \u001b[0mplot\u001b[0m \u001b[0;32mis\u001b[0m \u001b[0ma\u001b[0m \u001b[0mplot\u001b[0m \u001b[0mthat\u001b[0m \u001b[0mpresents\u001b[0m \u001b[0mquantitative\u001b[0m \u001b[0mdata\u001b[0m \u001b[0;32mwith\u001b[0m\u001b[0;34m\u001b[0m\u001b[0m\n\u001b[0;32m--> 955\u001b[0;31m         \u001b[0mrectangular\u001b[0m \u001b[0mbars\u001b[0m \u001b[0;32mwith\u001b[0m \u001b[0mlengths\u001b[0m \u001b[0mproportional\u001b[0m \u001b[0mto\u001b[0m \u001b[0mthe\u001b[0m \u001b[0mvalues\u001b[0m \u001b[0mthat\u001b[0m \u001b[0mthey\u001b[0m\u001b[0;34m\u001b[0m\u001b[0m\n\u001b[0m\u001b[1;32m    956\u001b[0m         \u001b[0mrepresent\u001b[0m\u001b[0;34m.\u001b[0m \u001b[0mA\u001b[0m \u001b[0mbar\u001b[0m \u001b[0mplot\u001b[0m \u001b[0mshows\u001b[0m \u001b[0mcomparisons\u001b[0m \u001b[0mamong\u001b[0m \u001b[0mdiscrete\u001b[0m \u001b[0mcategories\u001b[0m\u001b[0;34m.\u001b[0m \u001b[0mOne\u001b[0m\u001b[0;34m\u001b[0m\u001b[0m\n\u001b[1;32m    957\u001b[0m         \u001b[0maxis\u001b[0m \u001b[0mof\u001b[0m \u001b[0mthe\u001b[0m \u001b[0mplot\u001b[0m \u001b[0mshows\u001b[0m \u001b[0mthe\u001b[0m \u001b[0mspecific\u001b[0m \u001b[0mcategories\u001b[0m \u001b[0mbeing\u001b[0m \u001b[0mcompared\u001b[0m\u001b[0;34m,\u001b[0m \u001b[0;32mand\u001b[0m \u001b[0mthe\u001b[0m\u001b[0;34m\u001b[0m\u001b[0m\n",
      "\u001b[0;32m/opt/conda/lib/python3.6/site-packages/pandas/plotting/_core.py\u001b[0m in \u001b[0;36m_is_ts_plot\u001b[0;34m(self)\u001b[0m\n\u001b[1;32m    946\u001b[0m             \u001b[0;34m>>\u001b[0m\u001b[0;34m>\u001b[0m \u001b[0max\u001b[0m \u001b[0;34m=\u001b[0m \u001b[0mdf\u001b[0m\u001b[0;34m.\u001b[0m\u001b[0mplot\u001b[0m\u001b[0;34m.\u001b[0m\u001b[0mbar\u001b[0m\u001b[0;34m(\u001b[0m\u001b[0mx\u001b[0m\u001b[0;34m=\u001b[0m\u001b[0;34m'lifespan'\u001b[0m\u001b[0;34m,\u001b[0m \u001b[0mrot\u001b[0m\u001b[0;34m=\u001b[0m\u001b[0;36m0\u001b[0m\u001b[0;34m)\u001b[0m\u001b[0;34m\u001b[0m\u001b[0m\n\u001b[1;32m    947\u001b[0m         \"\"\"\n\u001b[0;32m--> 948\u001b[0;31m         \u001b[0;32mreturn\u001b[0m \u001b[0mself\u001b[0m\u001b[0;34m(\u001b[0m\u001b[0mkind\u001b[0m\u001b[0;34m=\u001b[0m\u001b[0;34m\"bar\"\u001b[0m\u001b[0;34m,\u001b[0m \u001b[0mx\u001b[0m\u001b[0;34m=\u001b[0m\u001b[0mx\u001b[0m\u001b[0;34m,\u001b[0m \u001b[0my\u001b[0m\u001b[0;34m=\u001b[0m\u001b[0my\u001b[0m\u001b[0;34m,\u001b[0m \u001b[0;34m**\u001b[0m\u001b[0mkwargs\u001b[0m\u001b[0;34m)\u001b[0m\u001b[0;34m\u001b[0m\u001b[0m\n\u001b[0m\u001b[1;32m    949\u001b[0m \u001b[0;34m\u001b[0m\u001b[0m\n\u001b[1;32m    950\u001b[0m     \u001b[0;32mdef\u001b[0m \u001b[0mbarh\u001b[0m\u001b[0;34m(\u001b[0m\u001b[0mself\u001b[0m\u001b[0;34m,\u001b[0m \u001b[0mx\u001b[0m\u001b[0;34m=\u001b[0m\u001b[0;32mNone\u001b[0m\u001b[0;34m,\u001b[0m \u001b[0my\u001b[0m\u001b[0;34m=\u001b[0m\u001b[0;32mNone\u001b[0m\u001b[0;34m,\u001b[0m \u001b[0;34m**\u001b[0m\u001b[0mkwargs\u001b[0m\u001b[0;34m)\u001b[0m\u001b[0;34m:\u001b[0m\u001b[0;34m\u001b[0m\u001b[0m\n",
      "\u001b[0;32m/opt/conda/lib/python3.6/site-packages/pandas/plotting/_core.py\u001b[0m in \u001b[0;36m_use_dynamic_x\u001b[0;34m(self)\u001b[0m\n\u001b[1;32m    949\u001b[0m \u001b[0;34m\u001b[0m\u001b[0m\n\u001b[1;32m    950\u001b[0m     \u001b[0;32mdef\u001b[0m \u001b[0mbarh\u001b[0m\u001b[0;34m(\u001b[0m\u001b[0mself\u001b[0m\u001b[0;34m,\u001b[0m \u001b[0mx\u001b[0m\u001b[0;34m=\u001b[0m\u001b[0;32mNone\u001b[0m\u001b[0;34m,\u001b[0m \u001b[0my\u001b[0m\u001b[0;34m=\u001b[0m\u001b[0;32mNone\u001b[0m\u001b[0;34m,\u001b[0m \u001b[0;34m**\u001b[0m\u001b[0mkwargs\u001b[0m\u001b[0;34m)\u001b[0m\u001b[0;34m:\u001b[0m\u001b[0;34m\u001b[0m\u001b[0m\n\u001b[0;32m--> 951\u001b[0;31m         \"\"\"\n\u001b[0m\u001b[1;32m    952\u001b[0m         \u001b[0mMake\u001b[0m \u001b[0ma\u001b[0m \u001b[0mhorizontal\u001b[0m \u001b[0mbar\u001b[0m \u001b[0mplot\u001b[0m\u001b[0;34m.\u001b[0m\u001b[0;34m\u001b[0m\u001b[0m\n\u001b[1;32m    953\u001b[0m \u001b[0;34m\u001b[0m\u001b[0m\n",
      "\u001b[0;31mModuleNotFoundError\u001b[0m: No module named 'pandas.plotting._timeseries'"
     ]
    },
    {
     "data": {
      "image/png": "[encoded data removed]",
      "text/plain": [
       "<matplotlib.figure.Figure at 0x7f9ccc2fba58>"
      ]
     },
     "metadata": {
      "needs_background": "light"
     },
     "output_type": "display_data"
    }
   ],
   "source": [
    "# plot relationship between release_year and vote_average\n",
    "avg_rating_year.plot(kind='line',title='Average Rating VS Years',figsize = (10,5))"
   ]
  },
  {
   "cell_type": "code",
   "execution_count": 35,
   "metadata": {},
   "outputs": [
    {
     "ename": "SyntaxError",
     "evalue": "invalid syntax (<ipython-input-35-26eb1486a66e>, line 2)",
     "output_type": "error",
     "traceback": [
      "\u001b[0;36m  File \u001b[0;32m\"<ipython-input-35-26eb1486a66e>\"\u001b[0;36m, line \u001b[0;32m2\u001b[0m\n\u001b[0;31m    Independent variable is release year\u001b[0m\n\u001b[0m                       ^\u001b[0m\n\u001b[0;31mSyntaxError\u001b[0m\u001b[0;31m:\u001b[0m invalid syntax\n"
     ]
    }
   ],
   "source": [
    "### Research Question 2  2. Is the public rating of movies getting better or worse?\n",
    "Independent variable is release year\n",
    "Dependent variable is vote average\n",
    "Group by to ttable by year and calculate the mean of the average for each year\n",
    "First we define a function to calculate the mean of one column then groupby the result by another column, We will use this function in Q1 & Q2.\n"
   ]
  },
  {
   "cell_type": "code",
   "execution_count": null,
   "metadata": {},
   "outputs": [],
   "source": []
  },
  {
   "cell_type": "code",
   "execution_count": null,
   "metadata": {
    "collapsed": true
   },
   "outputs": [],
   "source": [
    "from subprocess import call\n",
    "call(['python', '-m', 'nbconvert', 'Investigate_a_Dataset.ipynb'])"
   ]
  }
 ],
 "metadata": {
  "kernelspec": {
   "display_name": "Python 3",
   "language": "python",
   "name": "python3"
  },
  "language_info": {
   "codemirror_mode": {
    "name": "ipython",
    "version": 3
   },
   "file_extension": ".py",
   "mimetype": "text/x-python",
   "name": "python",
   "nbconvert_exporter": "python",
   "pygments_lexer": "ipython3",
   "version": "3.6.3"
  }
 },
 "nbformat": 4,
 "nbformat_minor": 2
}
